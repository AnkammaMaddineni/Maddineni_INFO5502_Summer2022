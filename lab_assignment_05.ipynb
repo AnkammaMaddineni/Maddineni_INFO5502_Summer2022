{
  "cells": [
    {
      "cell_type": "markdown",
      "metadata": {
        "id": "view-in-github",
        "colab_type": "text"
      },
      "source": [
        "<a href=\"https://colab.research.google.com/github/AnkammaMaddineni/Maddineni_INFO5502_Summer2022/blob/main/lab_assignment_05.ipynb\" target=\"_parent\"><img src=\"https://colab.research.google.com/assets/colab-badge.svg\" alt=\"Open In Colab\"/></a>"
      ]
    },
    {
      "cell_type": "markdown",
      "metadata": {
        "id": "u1qVfi5CwVQN"
      },
      "source": [
        "## The fifth Lab-assignment (07/29/2022 11:59'AM' - 08/02/2022 11:59PM, 50 points in total)"
      ]
    },
    {
      "cell_type": "markdown",
      "metadata": {
        "id": "aDAUTrubwVQQ"
      },
      "source": [
        "The purpose of this exercise is to understand Data Visualization, we will practice how to create visualizations for different datasets bu using different tools."
      ]
    },
    {
      "cell_type": "markdown",
      "metadata": {
        "id": "RxTNqaImwVQQ"
      },
      "source": [
        "Question 1 (50 points). In this questions, you will design a visualization for a small data set and provide a rigorous rationale for your design choices. \n",
        "\n",
        "Every 10 years, the census bureau documents the demographic make-up of the United States, influencing everything from congressional districting to social services. This dataset contains a high-level summary of census data for two years a century apart: 1900 and 2000. The data is a CSV (comma-separated values) file that describes the U.S. population in terms of year, reported sex (1: male, 2: female), age group (binned into 5 year segments from 0-4 years old up to 90+ years old), and the total count of people per group. There are 38 data points per year, for a total of 76 data points.\n",
        "\n",
        "You can download the dataset here: \n",
        "\n",
        "Dataset: https://github.com/suthapalliuday/INFO5502-Summer2022/blob/main/datasets/lab_assignment_05_census.csv\n",
        "\n",
        "Source: https://www.ipums.org/\n",
        "\n",
        "(1)(10 points) Start by choosing a question you'd like a visualization to answer.\n",
        "\n",
        "(2)(30 points) Generate a static visualization (i.e., a single image) that you believe effectively answers that question, and use the question as the title of your graphic.\n",
        "\n",
        "(3)(10 points) Provide a short write-up (no more than 3 paragraphs) describing your design.\n",
        "\n",
        "\n",
        "While you must use the data set given, you are free to transform the data as you see fit. Such transforms may include (but are not limited to) log transformation, computing percentages or averages, grouping elements into new categories, or removing unnecessary variables or records. You are also free to incorporate external data as you see fit. Your chart image should be interpretable without recourse to your short write-up. Do not forget to include title, axis labels or legends as needed!\n",
        "\n",
        "As different visualizations can emphasize different aspects of a data set, you should document what aspects of the data you are attempting to most effectively communicate. In short, what story are you trying to tell? Just as important, also note which aspects of the data might be obscured or down-played due to your visualization design.\n",
        "\n",
        "In your write-up, you should provide a rigorous rationale for your design decisions. Document the visual encodings you used and why they are appropriate for the data and your specific question. These decisions include the choice of visualization type, size, color, scale, and other visual elements, as well as the use of sorting or other data transformations. How do these decisions facilitate effective communication?"
      ]
    },
    {
      "cell_type": "code",
      "execution_count": null,
      "metadata": {
        "id": "O3JIbQn7wVQS"
      },
      "outputs": [],
      "source": [
        "# Your answer here (question + explanation):\n",
        "'''\n",
        " Research Question:\n",
        "    \n",
        " Compare the population difference from 1900 to 2000 in both the genders at different age groups\n",
        "\n",
        " Here the question is about the population difference in a century in different age groups and in different genders.\n",
        " \n",
        "'''\n",
        "\n"
      ]
    },
    {
      "cell_type": "code",
      "execution_count": 33,
      "metadata": {
        "colab": {
          "base_uri": "https://localhost:8080/",
          "height": 573
        },
        "id": "vSvmYB-nwVQT",
        "outputId": "87082c88-5b24-46f3-feae-f6eb54a158a8"
      },
      "outputs": [
        {
          "output_type": "display_data",
          "data": {
            "text/plain": [
              "<Figure size 432x288 with 1 Axes>"
            ],
            "image/png": "[encoded data removed]"
          },
          "metadata": {
            "needs_background": "light"
          }
        },
        {
          "output_type": "display_data",
          "data": {
            "text/plain": [
              "<Figure size 432x288 with 1 Axes>"
            ],
            "image/png": "[encoded data removed]"
          },
          "metadata": {
            "needs_background": "light"
          }
        }
      ],
      "source": [
        "# Your answer here (python code + explanation):\n",
        "\n",
        "import matplotlib.pyplot as plt\n",
        "import seaborn as sns\n",
        "import pandas as pd\n",
        "import numpy as np\n",
        "\n",
        "dataframe = pd.read_csv('https://raw.githubusercontent.com/suthapalliuday/INFO5502-Summer2022/main/datasets/lab_assignment_05_census.csv')\n",
        "dataframe1 = dataframe[(dataframe[\"Year\"]==1900)]\n",
        "dataframe2 = dataframe[(dataframe[\"Year\"]==2000)]\n",
        "sns.barplot(data=dataframe1, x='Age', y='People', hue='Sex')\n",
        "plt.title(\"Year - 1900\", loc = \"left\")\n",
        "plt.ticklabel_format(style='plain', axis='y')\n",
        "plt.show()\n",
        "sns.barplot(data=dataframe2, x='Age', y='People', hue='Sex')\n",
        "plt.title(\"Year - 2000\", loc = \"left\")\n",
        "plt.ticklabel_format(style='plain', axis='y')\n",
        "plt.show()\n"
      ]
    },
    {
      "cell_type": "code",
      "execution_count": 35,
      "metadata": {
        "id": "anMBRKQtwVQU"
      },
      "outputs": [],
      "source": [
        "# Your answer here (interpretation of the results):\n",
        "\n",
        "'''\n",
        "In this first of all the dataset is divided into 2 groups based on the year and then visualizations are formed accordingly which is easy to compare. \n",
        "The design selected for the visual representation of the given data set is the bar chart. It describes the research question effectively by\n",
        "showing different pattern in the population difference in the year 1900 and in the year 2000. The blue color bars in the design indicate male\n",
        "and the orange color indicate female.\n",
        "\n",
        "The first design shows the population of various age groups in male and female in the year 1900 and the secord design shows the same in the year\n",
        "2000. The x-axis in both the design indicates various age groups of the population. The y-axis indicates the people which means the population.\n",
        "\n",
        "In the first design the pattern represents as the age increases the population decreases and in almost all the age groups males are dominant\n",
        "except 15 and 20 year age groups where females are more in number. But in the year 2000 the pattern completely changes as the age increases female\n",
        "population becomes more dominant. And also more number of people belongs to the age group between 30 to 45. \n",
        "'''\n"
      ]
    }
  ],
  "metadata": {
    "kernelspec": {
      "display_name": "Python 3 (ipykernel)",
      "language": "python",
      "name": "python3"
    },
    "language_info": {
      "codemirror_mode": {
        "name": "ipython",
        "version": 3
      },
      "file_extension": ".py",
      "mimetype": "text/x-python",
      "name": "python",
      "nbconvert_exporter": "python",
      "pygments_lexer": "ipython3",
      "version": "3.9.12"
    },
    "colab": {
      "name": "lab_assignment_05.ipynb",
      "provenance": [],
      "collapsed_sections": [],
      "include_colab_link": true
    }
  },
  "nbformat": 4,
  "nbformat_minor": 0
}