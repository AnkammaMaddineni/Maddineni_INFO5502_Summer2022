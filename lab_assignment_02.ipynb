{
  "cells": [
    {
      "cell_type": "markdown",
      "metadata": {
        "id": "view-in-github",
        "colab_type": "text"
      },
      "source": [
        "<a href=\"https://colab.research.google.com/github/AnkammaMaddineni/Maddineni_INFO5502_Summer2022/blob/main/lab_assignment_02.ipynb\" target=\"_parent\"><img src=\"https://colab.research.google.com/assets/colab-badge.svg\" alt=\"Open In Colab\"/></a>"
      ]
    },
    {
      "cell_type": "markdown",
      "metadata": {
        "id": "Ryk8D1Q4Wsrp"
      },
      "source": [
        "# **The second Lab-assignment (07/19/2022 11:59'AM' - 07/22/2022 11:59PM, 50 points in total)**"
      ]
    },
    {
      "cell_type": "markdown",
      "metadata": {
        "id": "90_NR8c5XGWc"
      },
      "source": [
        "# Question 1\n",
        "\n",
        "(5 points). Write a Python program to generate 12 random numbers between 1 and 100. Sort the list of numbers in ascending order and print it out. Sort the list of numbers in descending order and print it out. Calculate the average for the group and print it out."
      ]
    },
    {
      "cell_type": "code",
      "execution_count": 57,
      "metadata": {
        "id": "5QX6bJjGWXY9",
        "colab": {
          "base_uri": "https://localhost:8080/"
        },
        "outputId": "88b171bb-2c5e-4eaf-8dff-7a5c4ddf5059"
      },
      "outputs": [
        {
          "output_type": "stream",
          "name": "stdout",
          "text": [
            "[59, 33, 19, 82, 26, 31, 87, 16, 32, 74, 34, 47]\n",
            "[6, 16, 16, 24, 38, 42, 49, 58, 63, 74, 93, 100]\n",
            "[93, 80, 78, 71, 70, 48, 47, 34, 28, 26, 16, 12]\n",
            "50.25\n"
          ]
        }
      ],
      "source": [
        "# Your code here\n",
        "\n",
        "import random\n",
        "\n",
        "def randomnum(num, start, end):\n",
        "  result = []\n",
        "\n",
        "  for numbers in range(num):\n",
        "    result.append(random.randint(start, end))\n",
        "  return result\n",
        "\n",
        "num = 12\n",
        "start = 1\n",
        "end = 100\n",
        "\n",
        "print(randomnum(num, start, end))\n",
        "\n",
        "print(sorted(randomnum(num, start, end)))\n",
        "\n",
        "random_numbers = random.sample(range(1, 100), 12)\n",
        "random_numbers.sort(reverse=True)\n",
        "print(random_numbers)\n",
        "\n",
        "def avg(random_numbers):\n",
        "  sum_num = 0\n",
        "  for number in random_numbers:\n",
        "    sum_num = sum_num + number\n",
        "\n",
        "  average = sum_num/len(random_numbers)\n",
        "  return average\n",
        "\n",
        "print(avg(random_numbers))"
      ]
    },
    {
      "cell_type": "markdown",
      "metadata": {
        "id": "CmFoI4jDS9nx"
      },
      "source": [
        "# Question 2 \n",
        "\n",
        "(5 points). The formula that describes the volume V of a sphere with radius r is the following:\n",
        "\n",
        "$ V=\\frac{4}{3}\\ast\\ \\pi\\ast\\ r^3 $\n",
        "\n",
        "Write a program to calculate the value of V when r is in the range of 1–10. Output the result in the following format:\n",
        "\n",
        "\tr\tV\n",
        "\t1\t…\n",
        "\t2\t…\n",
        "\t3\t…\n"
      ]
    },
    {
      "cell_type": "code",
      "execution_count": 21,
      "metadata": {
        "id": "pEyqeioAT95b",
        "colab": {
          "base_uri": "https://localhost:8080/"
        },
        "outputId": "4e148c66-6dea-4377-f284-b48211631a15"
      },
      "outputs": [
        {
          "output_type": "stream",
          "name": "stdout",
          "text": [
            "1 4.1887902047863905\n",
            "2 33.510321638291124\n",
            "3 113.09733552923254\n",
            "4 268.082573106329\n",
            "5 523.5987755982989\n",
            "6 904.7786842338603\n",
            "7 1436.7550402417319\n",
            "8 2144.660584850632\n",
            "9 3053.6280592892786\n"
          ]
        }
      ],
      "source": [
        "# Your code here\n",
        "\n",
        "import math \n",
        "\n",
        "for r in range(1, 10):\n",
        "    v = (4/3)*math.pi*(r**3)\n",
        "    print(r, v)"
      ]
    },
    {
      "cell_type": "markdown",
      "metadata": {
        "id": "z3tBE7E-Xn5X"
      },
      "source": [
        "# Question 3\n",
        "\n",
        "(40 points). In the field of Data Science, data is often formatted as a comma-delimited (CSV) file, where each line in a file corresponds to a field's value. Refer to Chapter 9 (p. 106) for more information on comma-delimited files. To answer this question, you will need to download the file [lab_assignment_02_denton_housing.csv](https://github.com/suthapalliuday/INFO5502-Summer2022/blob/main/datasets/lab_assignment_02_denton_housing.csv) included with this assignment. The file [lab_assignment_02_denton_housing.csv](https://github.com/suthapalliuday/INFO5502-Summer2022/blob/main/datasets/lab_assignment_02_denton_housing.csv) contains statistics about housing in the city of Denton from 2008 to 2014. Write a program to implement the following questions.\n",
        "\n",
        "(1) (10 pts) Calculate the difference in the number of Occupied Housing Units from year to year and print it. The difference must be calculated for the consecutive years such as 2008-2009, 2009-2010 etc. Finally, print the values in the ascending order.\n",
        "\n",
        "(2) (10 pts) For all the years, calculate the percentage of housing units which are vacant an occupied. Print the results in the following format:\n",
        "\n",
        "Year Vacant Housing Units Occupied Housing Units\n",
        "\n",
        "    2008  30%   70%                          \n",
        "\t2009 ----- -----\n",
        "\t2010 ----- -----\n",
        "    2011 ----- -----\n",
        "\t2012 ----- -----\n",
        "    2013 ----- -----\n",
        "\t2014 ----- -----\n",
        "  \n",
        "  \n",
        "\n",
        "(3) (10 pts) Calculate and print the valued and years in which the highest number of housing units were vacant and occupied. Print the results in the following format:  \n",
        "\n",
        "                              Year\tValue\n",
        "\tVacant Housing Units\t  -----   -----\n",
        "\tOccupied Housing Units\t-----   -----\n",
        "\n",
        "(4) (10 pts) Calculate the harmonic mean of the total housing units and print it out. You can find the information about harmonic mean here: https://ncalculators.com/statistics/harmonic-mean-calculator.htm"
      ]
    },
    {
      "cell_type": "code",
      "execution_count": 85,
      "metadata": {
        "id": "lqGYuHBhcsRH",
        "colab": {
          "base_uri": "https://localhost:8080/"
        },
        "outputId": "f1638c69-bfeb-4215-f995-749d3ec660d1"
      },
      "outputs": [
        {
          "output_type": "stream",
          "name": "stdout",
          "text": [
            "[-5091.0, -2622.0, -1565.0, -1404.0, 303.0, 795.0]\n",
            "year vac_percent occ_Percent\n",
            "2008      11%        89%\n",
            "2009      9%        91%\n",
            "2010      8%        92%\n",
            "2011      9%        91%\n",
            "2012      7%        93%\n",
            "2013      9%        91%\n",
            "2014      6%        94%\n",
            "             housing_unit  Year  Value\n",
            "0    Vacant Housing Units  2008   4483\n",
            "1  Occupied Housing Units  2014  46295\n",
            "44398.28543969185\n"
          ]
        }
      ],
      "source": [
        "# Your code here\n",
        "\n",
        "#Question 1\n",
        "\n",
        "import numpy as np\n",
        "import pandas as pd\n",
        "import statistics\n",
        "\n",
        "url = 'https://raw.githubusercontent.com/suthapalliuday/INFO5502-Summer2022/main/datasets/lab_assignment_02_denton_housing.csv'\n",
        "dataframe = pd.read_csv(url)\n",
        "\n",
        "occupied=dataframe[(dataframe['title_field'] == 'Occupied Housing Units')]['value']\n",
        "occupied_diff = occupied.diff()\n",
        "occupied_diff = occupied_diff.dropna()\n",
        "print(sorted(occupied_diff))\n",
        "\n",
        "\n",
        "#Question 2\n",
        "\n",
        "print('year', 'vac_percent', 'occ_Percent')\n",
        "dataframe=dataframe.reset_index(drop=True)\n",
        "\n",
        "for year in range(2008,2015):\n",
        "    vacant=dataframe[(dataframe['year'] == year) & (dataframe['title_field'] == 'Vacant Housing Units')]['value'].values[0]\n",
        "    occupied=dataframe[(dataframe['year'] == year) & (dataframe['title_field'] == 'Occupied Housing Units')]['value'].values[0]\n",
        "    Total=dataframe[(dataframe['year'] == year) & (dataframe['title_field'] == 'Total Housing Units')]['value'].values[0] \n",
        "    Vacant_Percentage=round((vacant/Total)*100)\n",
        "    Occupied_Percentage=round((occupied/Total)*100)\n",
        "    print(year,'    ',str(Vacant_Percentage)+'%','      ',str(Occupied_Percentage)+'%')\n",
        "\n",
        "\n",
        "\n",
        "\n",
        "#Question 3\n",
        "\n",
        "highest_number_housing_units = pd.DataFrame(columns=['housing_unit','Year', 'Value'])\n",
        "for housing_unit in [\"Vacant Housing Units\", \"Occupied Housing Units\"]:\n",
        "  out_3 = {}\n",
        "  out_3['housing_unit']= housing_unit\n",
        "  out_3['Value'] = dataframe[dataframe['title_field'] == housing_unit].max()[2]\n",
        "  out_3['Year'] = dataframe[(dataframe['title_field'] == housing_unit) & (dataframe['value'] == out_3['Value'])]['year'].values[0]\n",
        "\n",
        "  highest_number_housing_units = highest_number_housing_units.append(out_3, ignore_index=True)\n",
        "\n",
        "print(highest_number_housing_units)\n",
        "\n",
        "\n",
        "\n",
        "\n",
        "# Question 4\n",
        "\n",
        "Harmonic_mean = statistics.harmonic_mean(list(dataframe[dataframe['title_field']=='Total Housing Units'].value))\n",
        "print(Harmonic_mean)"
      ]
    }
  ],
  "metadata": {
    "colab": {
      "collapsed_sections": [],
      "name": "lab_assignment_02.ipynb",
      "provenance": [],
      "include_colab_link": true
    },
    "kernelspec": {
      "display_name": "Python 3 (ipykernel)",
      "language": "python",
      "name": "python3"
    },
    "language_info": {
      "codemirror_mode": {
        "name": "ipython",
        "version": 3
      },
      "file_extension": ".py",
      "mimetype": "text/x-python",
      "name": "python",
      "nbconvert_exporter": "python",
      "pygments_lexer": "ipython3",
      "version": "3.9.12"
    }
  },
  "nbformat": 4,
  "nbformat_minor": 0
}