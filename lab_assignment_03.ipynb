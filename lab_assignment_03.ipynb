{
  "cells": [
    {
      "cell_type": "markdown",
      "metadata": {
        "id": "view-in-github",
        "colab_type": "text"
      },
      "source": [
        "<a href=\"https://colab.research.google.com/github/AnkammaMaddineni/Maddineni_INFO5502_Summer2022/blob/main/lab_assignment_03.ipynb\" target=\"_parent\"><img src=\"https://colab.research.google.com/assets/colab-badge.svg\" alt=\"Open In Colab\"/></a>"
      ]
    },
    {
      "cell_type": "markdown",
      "metadata": {
        "id": "cKsW5mgVXAB3"
      },
      "source": [
        "## The third Lab-assignment (07/22/2022 11:59'AM' - 07/26/2022 11:59PM, 50 points in total)"
      ]
    },
    {
      "cell_type": "markdown",
      "metadata": {
        "id": "ZLIzcPgjXAB7"
      },
      "source": [
        "The purpose of this exercise is to understand users' information needs, then collect data from different sources for analysis."
      ]
    },
    {
      "cell_type": "markdown",
      "metadata": {
        "id": "TVurv_-jXAB8"
      },
      "source": [
        "Question 1 (10 points). Fomulate your domain problem: Describe an interesting research question (or practical question) you have in mind, what kind of data should be collected to answer the question(s)? How many data needed for the analysis? The detail steps for collecting and save the data. "
      ]
    },
    {
      "cell_type": "code",
      "execution_count": 9,
      "metadata": {
        "id": "OSLlPKt-XAB9",
        "colab": {
          "base_uri": "https://localhost:8080/",
          "height": 122
        },
        "outputId": "0e4f65ef-db55-4515-ff9d-7c7dc9ea7832"
      },
      "outputs": [
        {
          "output_type": "execute_result",
          "data": {
            "text/plain": [
              "'\\nPlease write you answer here:\\n\\nDomain problem:\\nResearch question:\\n. countries that got affected by covid-19 with high death-rate\\nData required to answer the question:\\n. The data required to answer this question is collected from teh Worldometers website\\n. https://www.worldometers.info/coronavirus/\\n. The data has covid-19 information of almost all the countries with death rates, active cases, recovered cases and total number of cases\\nSteps in collecting and saving the data:\\n. The data from the website has been retrived using available apis\\n. The website url contains 1000 records which is sufficient to answer the question\\n. The data is printed and manually copied into a csv file\\n. Alternatively pandas can also be used to write the collected data into csv file\\n\\n'"
            ],
            "application/vnd.google.colaboratory.intrinsic+json": {
              "type": "string"
            }
          },
          "metadata": {},
          "execution_count": 9
        }
      ],
      "source": [
        "# Your answer here (no code for this question, write down your answer as detail as possible for the above questions):\n",
        "\n",
        "'''\n",
        "Please write you answer here:\n",
        "\n",
        "Domain problem:\n",
        "Research question:\n",
        ". countries that got affected by covid-19 and to study covid-19 vaccination and case trends by age group\n",
        "Data required to answer the question:\n",
        ". The data required to answer this question is collected from teh center for disease control (cdc) website\n",
        ". https://data.cdc.gov/Vaccinations/COVID-19-Vaccination-and-Case-Trends-by-Age-Group-/gxj9-t96f\n",
        ". The data has covid-19 information of almost all the age groups vaccination data\n",
        "Steps in collecting and saving the data:\n",
        ". The data from the website has been retrived using available apis\n",
        ". The website url contains 1000 records which is sufficient to answer the question\n",
        ". The data is printed and manually copied into a csv file\n",
        ". Alternatively pandas can also be used to write the collected data into csv file\n",
        "\n",
        "'''\n"
      ]
    },
    {
      "cell_type": "markdown",
      "metadata": {
        "id": "IYVvd1TTXAB-"
      },
      "source": [
        "Question 2 (30 points). Collect your data to answer the research problem: Write python code to collect 1000 data samples you discussed above."
      ]
    },
    {
      "cell_type": "code",
      "execution_count": 18,
      "metadata": {
        "id": "gEYTxtrRXAB_",
        "colab": {
          "base_uri": "https://localhost:8080/"
        },
        "outputId": "ec1deb88-0cf3-42ff-9e55-89f957bf2994"
      },
      "outputs": [
        {
          "output_type": "stream",
          "name": "stdout",
          "text": [
            "Looking in indexes: https://pypi.org/simple, https://us-python.pkg.dev/colab-wheels/public/simple/\n",
            "Requirement already satisfied: fsspec in /usr/local/lib/python3.7/dist-packages (2022.5.0)\n",
            "        cdc_case_earliest_dt   agegroupvacc  _7_day_avg_group_cases_per  \\\n",
            "0    2022-07-03T00:00:00.000  65 - 74 Years                   32.007613   \n",
            "1    2022-07-04T00:00:00.000  65 - 74 Years                   29.176064   \n",
            "2    2022-07-05T00:00:00.000  65 - 74 Years                   24.180985   \n",
            "3    2022-07-06T00:00:00.000  65 - 74 Years                   24.921107   \n",
            "4    2022-07-07T00:00:00.000  65 - 74 Years                   19.331385   \n",
            "..                       ...            ...                         ...   \n",
            "995  2021-12-22T00:00:00.000  50 - 64 Years                   56.064090   \n",
            "996  2021-12-23T00:00:00.000  50 - 64 Years                   62.294795   \n",
            "997  2021-12-24T00:00:00.000  50 - 64 Years                   73.797479   \n",
            "998  2021-12-25T00:00:00.000  50 - 64 Years                   75.042258   \n",
            "999  2021-12-26T00:00:00.000  50 - 64 Years                   86.450499   \n",
            "\n",
            "     administered_dose1_pct  series_complete_pop_pct  \n",
            "0                     0.950                    0.940  \n",
            "1                     0.950                    0.940  \n",
            "2                     0.950                    0.940  \n",
            "3                     0.950                    0.940  \n",
            "4                     0.950                    0.940  \n",
            "..                      ...                      ...  \n",
            "995                   0.895                    0.791  \n",
            "996                   0.896                    0.791  \n",
            "997                   0.896                    0.791  \n",
            "998                   0.896                    0.791  \n",
            "999                   0.897                    0.791  \n",
            "\n",
            "[1000 rows x 5 columns]\n"
          ]
        }
      ],
      "source": [
        "# You code here (Please add comments in the code):\n",
        "\n",
        "#importing required libraries\n",
        "!pip install fsspec\n",
        "import requests\n",
        "import pandas as pd\n",
        "from io import StringIO\n",
        "\n",
        "# the api in the follwing line of code has the sufficient data required for the analysis\n",
        "\n",
        "data_api_url= 'https://data.cdc.gov/resource/gxj9-t96f.json'\n",
        "\n",
        "result = requests.get(data_api_url)\n",
        "\n",
        "dataframe = pd.read_json(StringIO(result.text))\n",
        "\n",
        "print(dataframe)\n",
        "dataframe.to_csv('covid-19.csv',sep=',')"
      ]
    },
    {
      "cell_type": "markdown",
      "metadata": {
        "id": "179jWISTXAB_"
      },
      "source": [
        "Question 3 (10 points). Understand the data quality: Search a second hand dataset (any dataset) from kaggle or other websites. Describe the data quality problem of the dataset and explain your strtegy to clean the data."
      ]
    },
    {
      "cell_type": "code",
      "execution_count": null,
      "metadata": {
        "id": "64xrsD8sXACA"
      },
      "outputs": [],
      "source": [
        "# Your answer here (no code for this question, write down your answer as detail as possible for the above questions):\n",
        "'''\n",
        "Please write you answer here:\n",
        "\n",
        "I considered Top hundred test batsmen in ICC rankings from Aug 1998 to June 2022 data from kaggle\n",
        "Dataset:\n",
        ". https://www.kaggle.com/datasets/paritosh712/cricket-icc-test-batting-rankings1998-to-2022\n",
        ". A total of 7 columns are present in the dataset\n",
        ". The third column consists of names of all the criketers\n",
        ". The other 6 columns include attributes such as rankings, rating points, career best test ranking, career best test rating, ranked date\n",
        "Steps in cleaning the dataset:\n",
        "1. Converting the attribute dates in appropriate format.\n",
        "2. In the dataframe removing all the unnecessary columns and adding extra columns if needed\n",
        "3. Split the columns that are necessary\n",
        "4. Converting and cleaning the columns that are numericals to Strings using .str() function.\n",
        "5. In the data frame clean the entire dataset element wise by using applymap()\n",
        "6. Then, removing any spaces that are not required and also removing special characters.\n",
        "7. To check if any Null or blank data is present.\n",
        "8. If any imbalanced data present, we balance it by using SMOTE technique which performs over and under sampling.\n",
        "\n",
        "'''"
      ]
    }
  ],
  "metadata": {
    "kernelspec": {
      "display_name": "Python 3 (ipykernel)",
      "language": "python",
      "name": "python3"
    },
    "language_info": {
      "codemirror_mode": {
        "name": "ipython",
        "version": 3
      },
      "file_extension": ".py",
      "mimetype": "text/x-python",
      "name": "python",
      "nbconvert_exporter": "python",
      "pygments_lexer": "ipython3",
      "version": "3.9.12"
    },
    "vscode": {
      "interpreter": {
        "hash": "5c6a7f839effdddf35473dacbb9a8184e57ebbba5133cab03b12e4f28d4f0d0f"
      }
    },
    "colab": {
      "name": "lab_assignment_03.ipynb",
      "provenance": [],
      "include_colab_link": true
    }
  },
  "nbformat": 4,
  "nbformat_minor": 0
}